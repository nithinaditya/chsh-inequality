{
 "cells": [
  {
   "cell_type": "code",
   "execution_count": 3,
   "id": "436aa428-e096-45b4-9a78-ddd9e881e2c6",
   "metadata": {},
   "outputs": [
    {
     "name": "stderr",
     "output_type": "stream",
     "text": [
      "ibmqfactory.load_account:WARNING:2022-11-20 16:12:02,132: Credentials are already in use. The existing account in the session will be replaced.\n"
     ]
    }
   ],
   "source": [
    "import qiskit\n",
    "from qiskit import QuantumCircuit, ClassicalRegister, QuantumRegister, transpile, Aer, IBMQ\n",
    "from qiskit.tools.visualization import circuit_drawer\n",
    "from qiskit.tools.monitor import job_monitor, backend_monitor, backend_overview\n",
    "from qiskit.providers.aer import noise\n",
    "\n",
    "import matplotlib.pyplot as plt\n",
    "import numpy as np\n",
    "import time\n",
    "\n",
    "provider = IBMQ.load_account()"
   ]
  },
  {
   "cell_type": "code",
   "execution_count": 4,
   "id": "9de7beab-dff2-4ccb-9273-5767e7391b4a",
   "metadata": {},
   "outputs": [
    {
     "name": "stderr",
     "output_type": "stream",
     "text": [
      "ibmqfactory.load_account:WARNING:2022-11-20 16:14:54,724: Credentials are already in use. The existing account in the session will be replaced.\n"
     ]
    }
   ],
   "source": [
    "IBMQ.load_account()\n",
    "provider = IBMQ.get_provider('ibm-q')\n",
    "quito = provider.get_backend('ibmq_quito')"
   ]
  },
  {
   "cell_type": "code",
   "execution_count": 5,
   "id": "020eb7e8-f81f-4c98-9cc5-dd9d95afbb30",
   "metadata": {},
   "outputs": [],
   "source": [
    "sim = Aer.get_backend('aer_simulator')"
   ]
  },
  {
   "cell_type": "code",
   "execution_count": 6,
   "id": "10c96ae9-8996-470c-8758-9763fc953ec9",
   "metadata": {},
   "outputs": [],
   "source": [
    "def makeCHSHcircuit(thetavec):\n",
    "\n",
    "    chsh_circuits = []\n",
    "    \n",
    "    for theta in thetavec:\n",
    "        obs_vec = ['00', '01', '10', '11']\n",
    "        for el in obs_vec:\n",
    "            qc = QuantumCircuit(2,2)\n",
    "            qc.h(0)\n",
    "            qc.cx(0, 1)\n",
    "            qc.ry(theta, 0)\n",
    "            for a in range(2):\n",
    "                if el[a] == '1':\n",
    "                    qc.h(a) \n",
    "            qc.measure(range(2),range(2))\n",
    "            chsh_circuits.append(qc)\n",
    "\n",
    "    return chsh_circuits"
   ]
  },
  {
   "cell_type": "code",
   "execution_count": 7,
   "id": "92d7881e-626d-4b77-b327-909590e66f1f",
   "metadata": {},
   "outputs": [],
   "source": [
    "def compute_chsh_witness(counts):\n",
    "    \n",
    "    CHSH1 = []\n",
    "    CHSH2 = []\n",
    "    for i in range(0, len(counts), 4):  \n",
    "        theta_dict = counts[i:i + 4]\n",
    "        zz = theta_dict[0]\n",
    "        zx = theta_dict[1]\n",
    "        xz = theta_dict[2]\n",
    "        xx = theta_dict[3]\n",
    "\n",
    "        no_shots = sum(xx[y] for y in xx)\n",
    "\n",
    "        chsh1 = 0\n",
    "        chsh2 = 0\n",
    "\n",
    "        for element in zz:\n",
    "            parity = (-1)**(int(element[0])+int(element[1]))\n",
    "            chsh1+= parity*zz[element]\n",
    "            chsh2+= parity*zz[element]\n",
    "\n",
    "        for element in zx:\n",
    "            parity = (-1)**(int(element[0])+int(element[1]))\n",
    "            chsh1+= parity*zx[element]\n",
    "            chsh2-= parity*zx[element]\n",
    "\n",
    "        for element in xz:\n",
    "            parity = (-1)**(int(element[0])+int(element[1]))\n",
    "            chsh1-= parity*xz[element]\n",
    "            chsh2+= parity*xz[element]\n",
    "\n",
    "        for element in xx:\n",
    "            parity = (-1)**(int(element[0])+int(element[1]))\n",
    "            chsh1+= parity*xx[element]\n",
    "            chsh2+= parity*xx[element]\n",
    "\n",
    "        CHSH1.append(chsh1/no_shots)\n",
    "        CHSH2.append(chsh2/no_shots)\n",
    "    \n",
    "    return CHSH1, CHSH2\n"
   ]
  },
  {
   "cell_type": "code",
   "execution_count": 9,
   "id": "7a16ae18-a100-4329-b2e5-6870f248954b",
   "metadata": {},
   "outputs": [],
   "source": [
    "number_of_thetas = 20\n",
    "theta_vec = np.linspace(0,2*np.pi,number_of_thetas)\n",
    "my_chsh_circuits = makeCHSHcircuit(theta_vec)"
   ]
  },
  {
   "cell_type": "code",
   "execution_count": 10,
   "id": "34b00c84-1dca-4e99-8adf-fc5c3b9747c0",
   "metadata": {},
   "outputs": [
    {
     "data": {
      "image/png": "[encoded data removed]",
      "text/plain": [
       "<Figure size 327.252x204.68 with 1 Axes>"
      ]
     },
     "execution_count": 10,
     "metadata": {},
     "output_type": "execute_result"
    }
   ],
   "source": [
    "my_chsh_circuits[4].draw()"
   ]
  },
  {
   "cell_type": "code",
   "execution_count": 11,
   "id": "1b2a2644-5196-4df3-aa0b-160a90429eeb",
   "metadata": {},
   "outputs": [
    {
     "data": {
      "image/png": "[encoded data removed]",
      "text/plain": [
       "<Figure size 387.452x204.68 with 1 Axes>"
      ]
     },
     "execution_count": 11,
     "metadata": {},
     "output_type": "execute_result"
    }
   ],
   "source": [
    "my_chsh_circuits[7].draw()"
   ]
  },
  {
   "cell_type": "code",
   "execution_count": 12,
   "id": "689bc30e-deb0-4c0c-9e72-fb8d10ded7d1",
   "metadata": {},
   "outputs": [
    {
     "data": {
      "image/png": "[encoded data removed]",
      "text/plain": [
       "<Figure size 387.452x204.68 with 1 Axes>"
      ]
     },
     "execution_count": 12,
     "metadata": {},
     "output_type": "execute_result"
    }
   ],
   "source": [
    "my_chsh_circuits[6].draw()"
   ]
  },
  {
   "cell_type": "code",
   "execution_count": 13,
   "id": "252c7c12-b6e6-4d2a-8564-56a99bd6a597",
   "metadata": {},
   "outputs": [
    {
     "data": {
      "image/png": "[encoded data removed]",
      "text/plain": [
       "<Figure size 387.452x204.68 with 1 Axes>"
      ]
     },
     "execution_count": 13,
     "metadata": {},
     "output_type": "execute_result"
    }
   ],
   "source": [
    "my_chsh_circuits[5].draw()"
   ]
  },
  {
   "cell_type": "code",
   "execution_count": null,
   "id": "ca0d6d2b-c248-4676-8a4a-ea8986b14454",
   "metadata": {},
   "outputs": [],
   "source": [
    "result_ideal = sim.run(my_chsh_circuits).result()\n",
    "\n",
    "tic = time.time()\n",
    "transpiled_circuits = transpile(my_chsh_circuits, quito)\n",
    "job_real = quito.run(transpiled_circuits, shots=8192)\n",
    "job_monitor(job_real)\n",
    "result_real = job_real.result()\n",
    "toc = time.time()\n",
    "\n",
    "print(toc-tic)\n"
   ]
  },
  {
   "cell_type": "code",
   "execution_count": 15,
   "id": "4ec0097f-969c-4eea-8f81-9fcbb0e4b9a5",
   "metadata": {},
   "outputs": [
    {
     "name": "stdout",
     "output_type": "stream",
     "text": [
      "Traceback \u001b[1;36m(most recent call last)\u001b[0m:\n",
      "\u001b[1;36m  Input \u001b[1;32mIn [15]\u001b[1;36m in \u001b[1;35m<cell line: 2>\u001b[1;36m\u001b[0m\n",
      "\u001b[1;33m    CHSH1_real, CHSH2_real = compute_chsh_witness(result_real.get_counts())\u001b[0m\n",
      "\u001b[1;31mNameError\u001b[0m\u001b[1;31m:\u001b[0m name 'result_real' is not defined\n",
      "\n",
      "Use %tb to get the full traceback.\n"
     ]
    },
    {
     "data": {
      "text/html": [
       "\n",
       "<style>\n",
       ".button {\n",
       "  border: none;\n",
       "  color: white;\n",
       "  padding: 4px 8px;\n",
       "  text-align: center;\n",
       "  text-decoration: none;\n",
       "  display: inline-block;\n",
       "  font-size: 12px;\n",
       "  margin: 4px 2px;\n",
       "  transition-duration: 0.2s;\n",
       "  cursor: pointer;\n",
       "}\n",
       ".iqx-button {\n",
       "  background-color: #0f62fe; \n",
       "  color: white; \n",
       "}\n",
       ".iqx-button:hover {\n",
       "  background-color: #0043ce;\n",
       "  color: white;\n",
       "}\n",
       "</style>\n",
       "<a href=\"https://stackoverflow.com/search?q=NameError: name 'result_real' is not defined\" target='_blank'><button class='button iqx-button'>Search for solution online</button></a>\n"
      ],
      "text/plain": [
       "<IPython.core.display.HTML object>"
      ]
     },
     "metadata": {},
     "output_type": "display_data"
    }
   ],
   "source": [
    "CHSH1_ideal, CHSH2_ideal = compute_chsh_witness(result_ideal.get_counts())\n",
    "CHSH1_real, CHSH2_real = compute_chsh_witness(result_real.get_counts())\n"
   ]
  },
  {
   "cell_type": "code",
   "execution_count": null,
   "id": "bc9777b5-6ce0-402c-9653-0c2a97c46c2c",
   "metadata": {},
   "outputs": [],
   "source": [
    "plt.figure(figsize=(12,8))\n",
    "plt.rcParams.update({'font.size': 22})\n",
    "plt.plot(theta_vec,CHSH1_ideal,'o-',label = 'CHSH1 Noiseless')\n",
    "plt.plot(theta_vec,CHSH2_ideal,'o-',label = 'CHSH2 Noiseless')\n",
    "\n",
    "plt.plot(theta_vec,CHSH1_real,'x-',label = 'CHSH1 Quito')\n",
    "plt.plot(theta_vec,CHSH2_real,'x-',label = 'CHSH2 Quito')\n",
    "\n",
    "plt.grid(which='major',axis='both')\n",
    "plt.rcParams.update({'font.size': 16})\n",
    "plt.legend()\n",
    "plt.axhline(y=2, color='r', linestyle='-')\n",
    "plt.axhline(y=-2, color='r', linestyle='-')\n",
    "plt.axhline(y=np.sqrt(2)*2, color='k', linestyle='-.')\n",
    "plt.axhline(y=-np.sqrt(2)*2, color='k', linestyle='-.')\n",
    "plt.xlabel('Theta')\n",
    "plt.ylabel('CHSH witness')"
   ]
  }
 ],
 "metadata": {
  "kernelspec": {
   "display_name": "Python 3 (ipykernel)",
   "language": "python",
   "name": "python3"
  },
  "language_info": {
   "codemirror_mode": {
    "name": "ipython",
    "version": 3
   },
   "file_extension": ".py",
   "mimetype": "text/x-python",
   "name": "python",
   "nbconvert_exporter": "python",
   "pygments_lexer": "ipython3",
   "version": "3.8.13"
  },
  "widgets": {
   "application/vnd.jupyter.widget-state+json": {
    "state": {
     "0097cf14e4854428bfc6d6e44d930f53": {
      "model_module": "@jupyter-widgets/base",
      "model_module_version": "1.2.0",
      "model_name": "LayoutModel",
      "state": {
       "width": "95px"
      }
     },
     "03dc814597964ae89b00b4f882c0e527": {
      "model_module": "@jupyter-widgets/controls",
      "model_module_version": "1.5.0",
      "model_name": "ButtonModel",
      "state": {
       "icon": "close",
       "layout": "IPY_MODEL_eb65d6d0352a4593bc00eaa7e05abf81",
       "style": "IPY_MODEL_d616f3b0266149808d7f26aa090d6fb7"
      }
     },
     "03f7f8e5d18d4910be197e3bf0164c9b": {
      "model_module": "@jupyter-widgets/controls",
      "model_module_version": "1.5.0",
      "model_name": "DescriptionStyleModel",
      "state": {
       "description_width": ""
      }
     },
     "0901baeac91e45ddb92c5b1f6600607d": {
      "model_module": "@jupyter-widgets/controls",
      "model_module_version": "1.5.0",
      "model_name": "HTMLModel",
      "state": {
       "layout": "IPY_MODEL_bf94e3b1ffeb491baddf22cebde26292",
       "style": "IPY_MODEL_03f7f8e5d18d4910be197e3bf0164c9b",
       "value": "<h5>Queue</h5>"
      }
     },
     "0e9efefff8cc4a40aa029160c39fbfcc": {
      "model_module": "@jupyter-widgets/controls",
      "model_module_version": "1.5.0",
      "model_name": "ButtonModel",
      "state": {
       "button_style": "primary",
       "description": "Clear",
       "layout": "IPY_MODEL_946b12e24cb8438fa9989edf2f0972f2",
       "style": "IPY_MODEL_4ef0cce6ac2648e18c3c848a76c85a55"
      }
     },
     "15de748c75674c11bafd43540cbbc30c": {
      "model_module": "@jupyter-widgets/controls",
      "model_module_version": "1.5.0",
      "model_name": "HTMLModel",
      "state": {
       "layout": "IPY_MODEL_293057b0a6724e0ab1aab54ad3ac7330",
       "style": "IPY_MODEL_a93573dd32a44aa3a9bd7874afe8c559",
       "value": "ibmq_quito"
      }
     },
     "1754c8ee0f6f4a5980506e45eb83d31f": {
      "model_module": "@jupyter-widgets/controls",
      "model_module_version": "1.5.0",
      "model_name": "HBoxModel",
      "state": {
       "children": [
        "IPY_MODEL_afc2d6b7eebb4095a336e2b05f4b6bdc",
        "IPY_MODEL_9649a28c38f246cfb0871f4b8f8bfe97",
        "IPY_MODEL_15de748c75674c11bafd43540cbbc30c",
        "IPY_MODEL_c309fdcd118541af8de82d6b9a95ec0f",
        "IPY_MODEL_9312963ca5b4450e8b2813ce585993d1",
        "IPY_MODEL_2e9c7bd642f74e40af8020fc4d83525e"
       ],
       "layout": "IPY_MODEL_47bf77534da74b9a9ef09b8d7e2eaba9"
      }
     },
     "1b033f4ef54d4cbdb5e1f9ccfe226a27": {
      "model_module": "@jupyter-widgets/controls",
      "model_module_version": "1.5.0",
      "model_name": "DescriptionStyleModel",
      "state": {
       "description_width": ""
      }
     },
     "1b72d4fd6a9e40c2a3c7983045ee3e7a": {
      "model_module": "@jupyter-widgets/controls",
      "model_module_version": "1.5.0",
      "model_name": "HBoxModel",
      "state": {
       "children": [
        "IPY_MODEL_545fd8961f744b7dbdcc5bd1316aa89b",
        "IPY_MODEL_93f89a8372d04af5b1e4a0da4960e9e6",
        "IPY_MODEL_39e945a3fdaa430d8d11ad1ac92e1415",
        "IPY_MODEL_0901baeac91e45ddb92c5b1f6600607d",
        "IPY_MODEL_d943d9b0b1fd4843864b5b34edb77675"
       ],
       "layout": "IPY_MODEL_db15d94c84e740678502c0d6d4315263"
      }
     },
     "293057b0a6724e0ab1aab54ad3ac7330": {
      "model_module": "@jupyter-widgets/base",
      "model_module_version": "1.2.0",
      "model_name": "LayoutModel",
      "state": {
       "width": "145px"
      }
     },
     "2e9c7bd642f74e40af8020fc4d83525e": {
      "model_module": "@jupyter-widgets/controls",
      "model_module_version": "1.5.0",
      "model_name": "HTMLModel",
      "state": {
       "layout": "IPY_MODEL_5811dcf615db454eb7f70533d8c3989c",
       "style": "IPY_MODEL_ee26dcce8b4147e4ac191180bcb61fb8",
       "value": "job is queued"
      }
     },
     "39e945a3fdaa430d8d11ad1ac92e1415": {
      "model_module": "@jupyter-widgets/controls",
      "model_module_version": "1.5.0",
      "model_name": "HTMLModel",
      "state": {
       "layout": "IPY_MODEL_637a4e3e875343e0a5ebfde11cb7b333",
       "style": "IPY_MODEL_e1ac0f917981495e8a11abf7379e9563",
       "value": "<h5>Status</h5>"
      }
     },
     "3d48f1251fd2446c801fcf382933f896": {
      "model_module": "@jupyter-widgets/controls",
      "model_module_version": "1.5.0",
      "model_name": "HBoxModel",
      "state": {
       "children": [
        "IPY_MODEL_03dc814597964ae89b00b4f882c0e527",
        "IPY_MODEL_3ddbc58e884949c0a33a46757b4ea64d",
        "IPY_MODEL_a0268788c5a74586aa79ea0cbb82bb0e",
        "IPY_MODEL_aab5ac84d66846cbbc6c1341d5c53643",
        "IPY_MODEL_9a22266e522b4e75bcc6d8f553e426f8",
        "IPY_MODEL_775ca80248284d4f82d46bff1e80e425"
       ],
       "layout": "IPY_MODEL_ce01c1136a0d4150a972bf53c8902002"
      }
     },
     "3da9c0f0524549cb9446af41110f1b54": {
      "model_module": "@jupyter-widgets/base",
      "model_module_version": "1.2.0",
      "model_name": "LayoutModel",
      "state": {
       "overflow_x": "scroll"
      }
     },
     "3ddbc58e884949c0a33a46757b4ea64d": {
      "model_module": "@jupyter-widgets/controls",
      "model_module_version": "1.5.0",
      "model_name": "HTMLModel",
      "state": {
       "layout": "IPY_MODEL_62ea7593a7d04e50a6761d93e059b04b",
       "style": "IPY_MODEL_8df0cb358c2e4133a1ace388e8b21922",
       "value": "637a552ead241486e9112e65"
      }
     },
     "42508779b99b4146bf0df99056323369": {
      "model_module": "@jupyter-widgets/base",
      "model_module_version": "1.2.0",
      "model_name": "LayoutModel",
      "state": {
       "width": "190px"
      }
     },
     "47bf77534da74b9a9ef09b8d7e2eaba9": {
      "model_module": "@jupyter-widgets/base",
      "model_module_version": "1.2.0",
      "model_name": "LayoutModel",
      "state": {
       "max_width": "700px",
       "min_width": "700px"
      }
     },
     "4ef0cce6ac2648e18c3c848a76c85a55": {
      "model_module": "@jupyter-widgets/controls",
      "model_module_version": "1.5.0",
      "model_name": "ButtonStyleModel",
      "state": {}
     },
     "545fd8961f744b7dbdcc5bd1316aa89b": {
      "model_module": "@jupyter-widgets/controls",
      "model_module_version": "1.5.0",
      "model_name": "HTMLModel",
      "state": {
       "layout": "IPY_MODEL_e8c0d019290c4661bc9a1a6c28203815",
       "style": "IPY_MODEL_f8d73b3284e94b39a88baa6613fd5f39",
       "value": "<h5>Job ID</h5>"
      }
     },
     "5811dcf615db454eb7f70533d8c3989c": {
      "model_module": "@jupyter-widgets/base",
      "model_module_version": "1.2.0",
      "model_name": "LayoutModel",
      "state": {
       "overflow_x": "scroll"
      }
     },
     "5d8fd6b21405414ba144f5a5b692f0d8": {
      "model_module": "@jupyter-widgets/controls",
      "model_module_version": "1.5.0",
      "model_name": "DescriptionStyleModel",
      "state": {
       "description_width": ""
      }
     },
     "62ea7593a7d04e50a6761d93e059b04b": {
      "model_module": "@jupyter-widgets/base",
      "model_module_version": "1.2.0",
      "model_name": "LayoutModel",
      "state": {
       "width": "190px"
      }
     },
     "637a4e3e875343e0a5ebfde11cb7b333": {
      "model_module": "@jupyter-widgets/base",
      "model_module_version": "1.2.0",
      "model_name": "LayoutModel",
      "state": {
       "width": "95px"
      }
     },
     "730f3919047544a69ed15db883f18cc6": {
      "model_module": "@jupyter-widgets/controls",
      "model_module_version": "1.5.0",
      "model_name": "DescriptionStyleModel",
      "state": {
       "description_width": ""
      }
     },
     "775ca80248284d4f82d46bff1e80e425": {
      "model_module": "@jupyter-widgets/controls",
      "model_module_version": "1.5.0",
      "model_name": "HTMLModel",
      "state": {
       "layout": "IPY_MODEL_3da9c0f0524549cb9446af41110f1b54",
       "style": "IPY_MODEL_b2b6006b971546c697800851075e3359",
       "value": "job is queued"
      }
     },
     "819c5589ff6f41f4903494e2c0d07e65": {
      "model_module": "@jupyter-widgets/controls",
      "model_module_version": "1.5.0",
      "model_name": "GridBoxModel",
      "state": {
       "children": [
        "IPY_MODEL_0e9efefff8cc4a40aa029160c39fbfcc"
       ],
       "layout": "IPY_MODEL_a10f6631a943423d8e8f9ff053caff3a"
      }
     },
     "83721755165d4056a6bbe36ab7dfb0b0": {
      "model_module": "@jupyter-widgets/base",
      "model_module_version": "1.2.0",
      "model_name": "LayoutModel",
      "state": {
       "width": "70px"
      }
     },
     "86760c7236844612a25f89d3ec01d9c5": {
      "model_module": "@jupyter-widgets/base",
      "model_module_version": "1.2.0",
      "model_name": "LayoutModel",
      "state": {
       "width": "95px"
      }
     },
     "888c2020674b4c2684e0f719453de12a": {
      "model_module": "@jupyter-widgets/base",
      "model_module_version": "1.2.0",
      "model_name": "LayoutModel",
      "state": {
       "width": "70px"
      }
     },
     "8d30a88f174b40ef8578b78fc73f4b1c": {
      "model_module": "@jupyter-widgets/base",
      "model_module_version": "1.2.0",
      "model_name": "LayoutModel",
      "state": {
       "width": "145px"
      }
     },
     "8df0cb358c2e4133a1ace388e8b21922": {
      "model_module": "@jupyter-widgets/controls",
      "model_module_version": "1.5.0",
      "model_name": "DescriptionStyleModel",
      "state": {
       "description_width": ""
      }
     },
     "9312963ca5b4450e8b2813ce585993d1": {
      "model_module": "@jupyter-widgets/controls",
      "model_module_version": "1.5.0",
      "model_name": "HTMLModel",
      "state": {
       "layout": "IPY_MODEL_83721755165d4056a6bbe36ab7dfb0b0",
       "style": "IPY_MODEL_94dd4494946248af8e35299cbd20d7aa",
       "value": "4"
      }
     },
     "93f89a8372d04af5b1e4a0da4960e9e6": {
      "model_module": "@jupyter-widgets/controls",
      "model_module_version": "1.5.0",
      "model_name": "HTMLModel",
      "state": {
       "layout": "IPY_MODEL_8d30a88f174b40ef8578b78fc73f4b1c",
       "style": "IPY_MODEL_5d8fd6b21405414ba144f5a5b692f0d8",
       "value": "<h5>Backend</h5>"
      }
     },
     "946b12e24cb8438fa9989edf2f0972f2": {
      "model_module": "@jupyter-widgets/base",
      "model_module_version": "1.2.0",
      "model_name": "LayoutModel",
      "state": {
       "grid_area": "right",
       "padding": "0px 0px 0px 0px",
       "width": "70px"
      }
     },
     "94dd4494946248af8e35299cbd20d7aa": {
      "model_module": "@jupyter-widgets/controls",
      "model_module_version": "1.5.0",
      "model_name": "DescriptionStyleModel",
      "state": {
       "description_width": ""
      }
     },
     "9649a28c38f246cfb0871f4b8f8bfe97": {
      "model_module": "@jupyter-widgets/controls",
      "model_module_version": "1.5.0",
      "model_name": "HTMLModel",
      "state": {
       "layout": "IPY_MODEL_42508779b99b4146bf0df99056323369",
       "style": "IPY_MODEL_cd49d42e10e2440ab3dc991109740811",
       "value": "637a54d5d0f9b2b7f365552c"
      }
     },
     "9a22266e522b4e75bcc6d8f553e426f8": {
      "model_module": "@jupyter-widgets/controls",
      "model_module_version": "1.5.0",
      "model_name": "HTMLModel",
      "state": {
       "layout": "IPY_MODEL_888c2020674b4c2684e0f719453de12a",
       "style": "IPY_MODEL_730f3919047544a69ed15db883f18cc6",
       "value": "5"
      }
     },
     "a0268788c5a74586aa79ea0cbb82bb0e": {
      "model_module": "@jupyter-widgets/controls",
      "model_module_version": "1.5.0",
      "model_name": "HTMLModel",
      "state": {
       "layout": "IPY_MODEL_d444eb72fd704310a07ac99b3497477c",
       "style": "IPY_MODEL_f6aaeecc5ecc44889242751537236405",
       "value": "ibmq_quito"
      }
     },
     "a10f6631a943423d8e8f9ff053caff3a": {
      "model_module": "@jupyter-widgets/base",
      "model_module_version": "1.2.0",
      "model_name": "LayoutModel",
      "state": {
       "grid_template_areas": "\n                                       \". . . . right \"\n                                        ",
       "grid_template_columns": "20% 20% 20% 20% 20%",
       "width": "100%"
      }
     },
     "a167700a064a4d4eaa63d086288711c0": {
      "model_module": "@jupyter-widgets/base",
      "model_module_version": "1.2.0",
      "model_name": "LayoutModel",
      "state": {
       "margin": "0px 0px 10px 0px"
      }
     },
     "a73d13e3e24847baa8415a9b0e8fcc14": {
      "model_module": "@jupyter-widgets/base",
      "model_module_version": "1.2.0",
      "model_name": "LayoutModel",
      "state": {}
     },
     "a8ac81ea79124fccb3d1369a7af6a592": {
      "model_module": "@jupyter-widgets/controls",
      "model_module_version": "1.5.0",
      "model_name": "DescriptionStyleModel",
      "state": {
       "description_width": ""
      }
     },
     "a93573dd32a44aa3a9bd7874afe8c559": {
      "model_module": "@jupyter-widgets/controls",
      "model_module_version": "1.5.0",
      "model_name": "DescriptionStyleModel",
      "state": {
       "description_width": ""
      }
     },
     "aab5ac84d66846cbbc6c1341d5c53643": {
      "model_module": "@jupyter-widgets/controls",
      "model_module_version": "1.5.0",
      "model_name": "HTMLModel",
      "state": {
       "layout": "IPY_MODEL_86760c7236844612a25f89d3ec01d9c5",
       "style": "IPY_MODEL_f5f78bd364e048ebb8f0c58a7d86f845",
       "value": "QUEUED"
      }
     },
     "afc2d6b7eebb4095a336e2b05f4b6bdc": {
      "model_module": "@jupyter-widgets/controls",
      "model_module_version": "1.5.0",
      "model_name": "ButtonModel",
      "state": {
       "icon": "close",
       "layout": "IPY_MODEL_edd23cf274da4a0497c1bd47b9987938",
       "style": "IPY_MODEL_b334735ab3af488583d295051c702675"
      }
     },
     "b2b6006b971546c697800851075e3359": {
      "model_module": "@jupyter-widgets/controls",
      "model_module_version": "1.5.0",
      "model_name": "DescriptionStyleModel",
      "state": {
       "description_width": ""
      }
     },
     "b334735ab3af488583d295051c702675": {
      "model_module": "@jupyter-widgets/controls",
      "model_module_version": "1.5.0",
      "model_name": "ButtonStyleModel",
      "state": {
       "button_color": "white"
      }
     },
     "ba53df5b7c134b0ea76c81360bcde590": {
      "model_module": "@jupyter-widgets/controls",
      "model_module_version": "1.5.0",
      "model_name": "DescriptionStyleModel",
      "state": {
       "description_width": ""
      }
     },
     "bf94e3b1ffeb491baddf22cebde26292": {
      "model_module": "@jupyter-widgets/base",
      "model_module_version": "1.2.0",
      "model_name": "LayoutModel",
      "state": {
       "width": "70px"
      }
     },
     "c309fdcd118541af8de82d6b9a95ec0f": {
      "model_module": "@jupyter-widgets/controls",
      "model_module_version": "1.5.0",
      "model_name": "HTMLModel",
      "state": {
       "layout": "IPY_MODEL_0097cf14e4854428bfc6d6e44d930f53",
       "style": "IPY_MODEL_a8ac81ea79124fccb3d1369a7af6a592",
       "value": "QUEUED"
      }
     },
     "cd49d42e10e2440ab3dc991109740811": {
      "model_module": "@jupyter-widgets/controls",
      "model_module_version": "1.5.0",
      "model_name": "DescriptionStyleModel",
      "state": {
       "description_width": ""
      }
     },
     "ce01c1136a0d4150a972bf53c8902002": {
      "model_module": "@jupyter-widgets/base",
      "model_module_version": "1.2.0",
      "model_name": "LayoutModel",
      "state": {
       "max_width": "700px",
       "min_width": "700px"
      }
     },
     "d444eb72fd704310a07ac99b3497477c": {
      "model_module": "@jupyter-widgets/base",
      "model_module_version": "1.2.0",
      "model_name": "LayoutModel",
      "state": {
       "width": "145px"
      }
     },
     "d616f3b0266149808d7f26aa090d6fb7": {
      "model_module": "@jupyter-widgets/controls",
      "model_module_version": "1.5.0",
      "model_name": "ButtonStyleModel",
      "state": {
       "button_color": "white"
      }
     },
     "d7ec8606f9ca4f6ebff0fad406d9a056": {
      "model_module": "@jupyter-widgets/controls",
      "model_module_version": "1.5.0",
      "model_name": "HTMLModel",
      "state": {
       "layout": "IPY_MODEL_a167700a064a4d4eaa63d086288711c0",
       "style": "IPY_MODEL_1b033f4ef54d4cbdb5e1f9ccfe226a27",
       "value": "<p style='font-family: IBM Plex Sans, Arial, Helvetica, sans-serif; font-size: 20px; font-weight: medium;'>Circuit Properties</p>"
      }
     },
     "d943d9b0b1fd4843864b5b34edb77675": {
      "model_module": "@jupyter-widgets/controls",
      "model_module_version": "1.5.0",
      "model_name": "HTMLModel",
      "state": {
       "layout": "IPY_MODEL_a73d13e3e24847baa8415a9b0e8fcc14",
       "style": "IPY_MODEL_ba53df5b7c134b0ea76c81360bcde590",
       "value": "<h5>Message</h5>"
      }
     },
     "db15d94c84e740678502c0d6d4315263": {
      "model_module": "@jupyter-widgets/base",
      "model_module_version": "1.2.0",
      "model_name": "LayoutModel",
      "state": {
       "margin": "0px 0px 0px 37px",
       "width": "600px"
      }
     },
     "e1ac0f917981495e8a11abf7379e9563": {
      "model_module": "@jupyter-widgets/controls",
      "model_module_version": "1.5.0",
      "model_name": "DescriptionStyleModel",
      "state": {
       "description_width": ""
      }
     },
     "e8c0d019290c4661bc9a1a6c28203815": {
      "model_module": "@jupyter-widgets/base",
      "model_module_version": "1.2.0",
      "model_name": "LayoutModel",
      "state": {
       "width": "190px"
      }
     },
     "eb65d6d0352a4593bc00eaa7e05abf81": {
      "model_module": "@jupyter-widgets/base",
      "model_module_version": "1.2.0",
      "model_name": "LayoutModel",
      "state": {
       "margin": "0px 5px 0px 0px",
       "width": "32px"
      }
     },
     "edd23cf274da4a0497c1bd47b9987938": {
      "model_module": "@jupyter-widgets/base",
      "model_module_version": "1.2.0",
      "model_name": "LayoutModel",
      "state": {
       "margin": "0px 5px 0px 0px",
       "width": "32px"
      }
     },
     "ee26dcce8b4147e4ac191180bcb61fb8": {
      "model_module": "@jupyter-widgets/controls",
      "model_module_version": "1.5.0",
      "model_name": "DescriptionStyleModel",
      "state": {
       "description_width": ""
      }
     },
     "f5f78bd364e048ebb8f0c58a7d86f845": {
      "model_module": "@jupyter-widgets/controls",
      "model_module_version": "1.5.0",
      "model_name": "DescriptionStyleModel",
      "state": {
       "description_width": ""
      }
     },
     "f6aaeecc5ecc44889242751537236405": {
      "model_module": "@jupyter-widgets/controls",
      "model_module_version": "1.5.0",
      "model_name": "DescriptionStyleModel",
      "state": {
       "description_width": ""
      }
     },
     "f8d73b3284e94b39a88baa6613fd5f39": {
      "model_module": "@jupyter-widgets/controls",
      "model_module_version": "1.5.0",
      "model_name": "DescriptionStyleModel",
      "state": {
       "description_width": ""
      }
     }
    },
    "version_major": 2,
    "version_minor": 0
   }
  }
 },
 "nbformat": 4,
 "nbformat_minor": 5
}
